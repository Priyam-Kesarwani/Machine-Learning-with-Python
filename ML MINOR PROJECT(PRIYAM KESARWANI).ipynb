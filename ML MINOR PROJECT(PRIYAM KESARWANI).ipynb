{
 "cells": [
  {
   "cell_type": "markdown",
   "id": "b1f4cfd9",
   "metadata": {},
   "source": [
    "### IMPORTING LIBRARIES AND READING DATA"
   ]
  },
  {
   "cell_type": "code",
   "execution_count": 1,
   "id": "0d64b51b",
   "metadata": {},
   "outputs": [],
   "source": [
    "import numpy as np\n",
    "import pandas as pd\n",
    "import matplotlib.pyplot as plt"
   ]
  },
  {
   "cell_type": "code",
   "execution_count": 2,
   "id": "257e5aec",
   "metadata": {
    "scrolled": true
   },
   "outputs": [
    {
     "data": {
      "text/html": [
       "<div>\n",
       "<style scoped>\n",
       "    .dataframe tbody tr th:only-of-type {\n",
       "        vertical-align: middle;\n",
       "    }\n",
       "\n",
       "    .dataframe tbody tr th {\n",
       "        vertical-align: top;\n",
       "    }\n",
       "\n",
       "    .dataframe thead th {\n",
       "        text-align: right;\n",
       "    }\n",
       "</style>\n",
       "<table border=\"1\" class=\"dataframe\">\n",
       "  <thead>\n",
       "    <tr style=\"text-align: right;\">\n",
       "      <th></th>\n",
       "      <th>battery_power</th>\n",
       "      <th>blue</th>\n",
       "      <th>clock_speed</th>\n",
       "      <th>dual_sim</th>\n",
       "      <th>fc</th>\n",
       "      <th>four_g</th>\n",
       "      <th>int_memory</th>\n",
       "      <th>m_dep</th>\n",
       "      <th>mobile_wt</th>\n",
       "      <th>n_cores</th>\n",
       "      <th>...</th>\n",
       "      <th>px_height</th>\n",
       "      <th>px_width</th>\n",
       "      <th>ram</th>\n",
       "      <th>sc_h</th>\n",
       "      <th>sc_w</th>\n",
       "      <th>talk_time</th>\n",
       "      <th>three_g</th>\n",
       "      <th>touch_screen</th>\n",
       "      <th>wifi</th>\n",
       "      <th>price_range</th>\n",
       "    </tr>\n",
       "  </thead>\n",
       "  <tbody>\n",
       "    <tr>\n",
       "      <th>0</th>\n",
       "      <td>842</td>\n",
       "      <td>0</td>\n",
       "      <td>2.2</td>\n",
       "      <td>0</td>\n",
       "      <td>1</td>\n",
       "      <td>0</td>\n",
       "      <td>7</td>\n",
       "      <td>0.6</td>\n",
       "      <td>188</td>\n",
       "      <td>2</td>\n",
       "      <td>...</td>\n",
       "      <td>20</td>\n",
       "      <td>756</td>\n",
       "      <td>2549</td>\n",
       "      <td>9</td>\n",
       "      <td>7</td>\n",
       "      <td>19</td>\n",
       "      <td>0</td>\n",
       "      <td>0</td>\n",
       "      <td>1</td>\n",
       "      <td>1</td>\n",
       "    </tr>\n",
       "    <tr>\n",
       "      <th>1</th>\n",
       "      <td>1021</td>\n",
       "      <td>1</td>\n",
       "      <td>0.5</td>\n",
       "      <td>1</td>\n",
       "      <td>0</td>\n",
       "      <td>1</td>\n",
       "      <td>53</td>\n",
       "      <td>0.7</td>\n",
       "      <td>136</td>\n",
       "      <td>3</td>\n",
       "      <td>...</td>\n",
       "      <td>905</td>\n",
       "      <td>1988</td>\n",
       "      <td>2631</td>\n",
       "      <td>17</td>\n",
       "      <td>3</td>\n",
       "      <td>7</td>\n",
       "      <td>1</td>\n",
       "      <td>1</td>\n",
       "      <td>0</td>\n",
       "      <td>2</td>\n",
       "    </tr>\n",
       "    <tr>\n",
       "      <th>2</th>\n",
       "      <td>563</td>\n",
       "      <td>1</td>\n",
       "      <td>0.5</td>\n",
       "      <td>1</td>\n",
       "      <td>2</td>\n",
       "      <td>1</td>\n",
       "      <td>41</td>\n",
       "      <td>0.9</td>\n",
       "      <td>145</td>\n",
       "      <td>5</td>\n",
       "      <td>...</td>\n",
       "      <td>1263</td>\n",
       "      <td>1716</td>\n",
       "      <td>2603</td>\n",
       "      <td>11</td>\n",
       "      <td>2</td>\n",
       "      <td>9</td>\n",
       "      <td>1</td>\n",
       "      <td>1</td>\n",
       "      <td>0</td>\n",
       "      <td>2</td>\n",
       "    </tr>\n",
       "    <tr>\n",
       "      <th>3</th>\n",
       "      <td>615</td>\n",
       "      <td>1</td>\n",
       "      <td>2.5</td>\n",
       "      <td>0</td>\n",
       "      <td>0</td>\n",
       "      <td>0</td>\n",
       "      <td>10</td>\n",
       "      <td>0.8</td>\n",
       "      <td>131</td>\n",
       "      <td>6</td>\n",
       "      <td>...</td>\n",
       "      <td>1216</td>\n",
       "      <td>1786</td>\n",
       "      <td>2769</td>\n",
       "      <td>16</td>\n",
       "      <td>8</td>\n",
       "      <td>11</td>\n",
       "      <td>1</td>\n",
       "      <td>0</td>\n",
       "      <td>0</td>\n",
       "      <td>2</td>\n",
       "    </tr>\n",
       "    <tr>\n",
       "      <th>4</th>\n",
       "      <td>1821</td>\n",
       "      <td>1</td>\n",
       "      <td>1.2</td>\n",
       "      <td>0</td>\n",
       "      <td>13</td>\n",
       "      <td>1</td>\n",
       "      <td>44</td>\n",
       "      <td>0.6</td>\n",
       "      <td>141</td>\n",
       "      <td>2</td>\n",
       "      <td>...</td>\n",
       "      <td>1208</td>\n",
       "      <td>1212</td>\n",
       "      <td>1411</td>\n",
       "      <td>8</td>\n",
       "      <td>2</td>\n",
       "      <td>15</td>\n",
       "      <td>1</td>\n",
       "      <td>1</td>\n",
       "      <td>0</td>\n",
       "      <td>1</td>\n",
       "    </tr>\n",
       "  </tbody>\n",
       "</table>\n",
       "<p>5 rows × 21 columns</p>\n",
       "</div>"
      ],
      "text/plain": [
       "   battery_power  blue  clock_speed  dual_sim  fc  four_g  int_memory  m_dep  \\\n",
       "0            842     0          2.2         0   1       0           7    0.6   \n",
       "1           1021     1          0.5         1   0       1          53    0.7   \n",
       "2            563     1          0.5         1   2       1          41    0.9   \n",
       "3            615     1          2.5         0   0       0          10    0.8   \n",
       "4           1821     1          1.2         0  13       1          44    0.6   \n",
       "\n",
       "   mobile_wt  n_cores  ...  px_height  px_width   ram  sc_h  sc_w  talk_time  \\\n",
       "0        188        2  ...         20       756  2549     9     7         19   \n",
       "1        136        3  ...        905      1988  2631    17     3          7   \n",
       "2        145        5  ...       1263      1716  2603    11     2          9   \n",
       "3        131        6  ...       1216      1786  2769    16     8         11   \n",
       "4        141        2  ...       1208      1212  1411     8     2         15   \n",
       "\n",
       "   three_g  touch_screen  wifi  price_range  \n",
       "0        0             0     1            1  \n",
       "1        1             1     0            2  \n",
       "2        1             1     0            2  \n",
       "3        1             0     0            2  \n",
       "4        1             1     0            1  \n",
       "\n",
       "[5 rows x 21 columns]"
      ]
     },
     "execution_count": 2,
     "metadata": {},
     "output_type": "execute_result"
    }
   ],
   "source": [
    "df=pd.read_csv('mobile_price_range_data.csv')\n",
    "df.head()"
   ]
  },
  {
   "cell_type": "markdown",
   "id": "fd35784a",
   "metadata": {},
   "source": [
    "### CHECKING NULL VALUE"
   ]
  },
  {
   "cell_type": "code",
   "execution_count": 3,
   "id": "80363aa5",
   "metadata": {},
   "outputs": [
    {
     "data": {
      "text/plain": [
       "battery_power    0\n",
       "blue             0\n",
       "clock_speed      0\n",
       "dual_sim         0\n",
       "fc               0\n",
       "four_g           0\n",
       "int_memory       0\n",
       "m_dep            0\n",
       "mobile_wt        0\n",
       "n_cores          0\n",
       "pc               0\n",
       "px_height        0\n",
       "px_width         0\n",
       "ram              0\n",
       "sc_h             0\n",
       "sc_w             0\n",
       "talk_time        0\n",
       "three_g          0\n",
       "touch_screen     0\n",
       "wifi             0\n",
       "price_range      0\n",
       "dtype: int64"
      ]
     },
     "execution_count": 3,
     "metadata": {},
     "output_type": "execute_result"
    }
   ],
   "source": [
    "df.isnull().sum()"
   ]
  },
  {
   "cell_type": "markdown",
   "id": "e36e81e9",
   "metadata": {},
   "source": [
    "### CHECKING DATA TYPE AND ASSIGNING X AND Y"
   ]
  },
  {
   "cell_type": "code",
   "execution_count": 4,
   "id": "21bfb131",
   "metadata": {},
   "outputs": [
    {
     "data": {
      "text/plain": [
       "battery_power      int64\n",
       "blue               int64\n",
       "clock_speed      float64\n",
       "dual_sim           int64\n",
       "fc                 int64\n",
       "four_g             int64\n",
       "int_memory         int64\n",
       "m_dep            float64\n",
       "mobile_wt          int64\n",
       "n_cores            int64\n",
       "pc                 int64\n",
       "px_height          int64\n",
       "px_width           int64\n",
       "ram                int64\n",
       "sc_h               int64\n",
       "sc_w               int64\n",
       "talk_time          int64\n",
       "three_g            int64\n",
       "touch_screen       int64\n",
       "wifi               int64\n",
       "price_range        int64\n",
       "dtype: object"
      ]
     },
     "execution_count": 4,
     "metadata": {},
     "output_type": "execute_result"
    }
   ],
   "source": [
    "df.dtypes"
   ]
  },
  {
   "cell_type": "code",
   "execution_count": 5,
   "id": "70a7f3a4",
   "metadata": {},
   "outputs": [
    {
     "name": "stdout",
     "output_type": "stream",
     "text": [
      "(2000, 20)\n",
      "(2000,)\n"
     ]
    }
   ],
   "source": [
    "x=df.drop('price_range',axis=1)\n",
    "y=df['price_range']\n",
    "print(x.shape)\n",
    "print(y.shape)"
   ]
  },
  {
   "cell_type": "markdown",
   "id": "41b4e6df",
   "metadata": {},
   "source": [
    "### SPLITTING DATA"
   ]
  },
  {
   "cell_type": "code",
   "execution_count": 6,
   "id": "8610c778",
   "metadata": {},
   "outputs": [],
   "source": [
    "from sklearn.model_selection import train_test_split"
   ]
  },
  {
   "cell_type": "code",
   "execution_count": 7,
   "id": "21d777db",
   "metadata": {},
   "outputs": [],
   "source": [
    "x_train,x_test,y_train,y_test=train_test_split(x,y,test_size=0.3,random_state=42)"
   ]
  },
  {
   "cell_type": "code",
   "execution_count": 8,
   "id": "7300fcda",
   "metadata": {
    "scrolled": true
   },
   "outputs": [
    {
     "name": "stdout",
     "output_type": "stream",
     "text": [
      "(1400, 20)\n",
      "(600, 20)\n",
      "(1400,)\n",
      "(600,)\n"
     ]
    }
   ],
   "source": [
    "print(x_train.shape)\n",
    "print(x_test.shape)\n",
    "print(y_train.shape)\n",
    "print(y_test.shape)"
   ]
  },
  {
   "cell_type": "markdown",
   "id": "680b706b",
   "metadata": {},
   "source": [
    "### DEFINING EVAL MODEL"
   ]
  },
  {
   "cell_type": "code",
   "execution_count": 9,
   "id": "bc268f12",
   "metadata": {},
   "outputs": [],
   "source": [
    "def eval_model(y_test,y_pred):\n",
    "    cm=confusion_matrix(y_test,y_pred) \n",
    "    print(cm)\n",
    "    print(classification_report(y_test,y_pred))"
   ]
  },
  {
   "cell_type": "markdown",
   "id": "7f0fb462",
   "metadata": {},
   "source": [
    "### APPLYING LOGISTIC REGRESSION"
   ]
  },
  {
   "cell_type": "code",
   "execution_count": 10,
   "id": "297803ae",
   "metadata": {},
   "outputs": [],
   "source": [
    "from sklearn.linear_model import LogisticRegression"
   ]
  },
  {
   "cell_type": "code",
   "execution_count": 11,
   "id": "dbc34897",
   "metadata": {},
   "outputs": [
    {
     "data": {
      "text/plain": [
       "LogisticRegression(max_iter=1000, solver='liblinear')"
      ]
     },
     "execution_count": 11,
     "metadata": {},
     "output_type": "execute_result"
    }
   ],
   "source": [
    "m1=LogisticRegression(solver='liblinear',max_iter=1000)\n",
    "m1.fit(x_train,y_train)"
   ]
  },
  {
   "cell_type": "code",
   "execution_count": 12,
   "id": "0c5272e0",
   "metadata": {},
   "outputs": [
    {
     "name": "stdout",
     "output_type": "stream",
     "text": [
      "Train Score 0.79\n",
      "Test Score 0.7766666666666666\n"
     ]
    }
   ],
   "source": [
    "print('Train Score',m1.score(x_train,y_train))\n",
    "print('Test Score',m1.score(x_test,y_test))"
   ]
  },
  {
   "cell_type": "code",
   "execution_count": 13,
   "id": "1c6387dc",
   "metadata": {},
   "outputs": [
    {
     "name": "stdout",
     "output_type": "stream",
     "text": [
      "[0 2 0 3 1 2 2 0 3 1 0 1 1 3 3 1 3 3 1 0 0 1 2 2 0 2 3 3 2 0 0 0 3 0 2 1 2\n",
      " 0 3 0 2 3 3 0 2 3 1 1 3 1 3 1 0 0 1 2 1 3 0 0 1 3 3 2 0 0 3 3 2 2 2 1 0 1\n",
      " 3 0 1 3 2 1 3 2 1 0 1 3 2 3 3 0 3 3 2 1 3 2 2 3 2 1 0 0 1 0 0 3 2 0 2 1 0\n",
      " 0 3 1 3 1 3 3 0 2 1 3 3 2 3 3 0 3 0 2 3 0 1 3 0 3 1 0 0 2 3 1 3 3 0 0 0 2\n",
      " 2 2 3 1 1 0 2 3 0 1 0 2 2 3 3 1 1 0 0 2 2 2 3 0 0 0 3 1 2 2 1 0 0 0 0 0 3\n",
      " 2 0 3 0 0 0 0 1 3 3 1 0 1 2 0 1 2 1 3 3 3 1 2 0 0 0 1 1 1 3 1 1 2 1 1 3 1\n",
      " 3 0 0 3 0 3 0 0 1 0 1 3 2 1 1 2 3 0 2 3 2 3 0 3 1 3 3 3 2 1 0 3 3 1 3 3 3\n",
      " 3 3 0 1 2 3 2 3 0 2 3 2 3 2 0 0 2 0 3 3 1 3 2 0 3 1 2 0 0 3 0 1 2 3 3 3 0\n",
      " 1 0 0 3 3 0 1 1 2 0 3 3 2 3 1 3 3 0 2 1 2 2 0 0 0 3 3 3 1 0 1 0 2 3 2 0 2\n",
      " 2 2 1 3 0 0 3 1 3 1 0 1 1 2 1 2 3 1 0 0 2 3 0 3 0 0 1 0 1 2 2 2 3 0 3 2 3\n",
      " 3 3 3 3 1 2 0 3 2 3 3 0 2 3 1 3 3 3 1 0 2 3 0 0 2 3 2 1 2 2 1 3 0 3 1 3 0\n",
      " 0 1 0 1 0 2 0 1 3 3 1 1 1 3 1 1 3 2 0 0 3 0 1 0 0 1 3 3 0 2 0 1 2 3 3 0 3\n",
      " 0 2 0 0 3 3 0 2 1 2 3 2 1 0 1 3 1 0 3 1 0 0 3 2 3 2 0 3 2 0 1 2 3 2 2 0 0\n",
      " 0 2 3 1 0 2 3 1 3 1 2 2 3 0 0 1 2 3 1 2 3 3 0 3 2 3 2 3 2 3 1 1 1 0 1 0 3\n",
      " 1 0 3 2 1 3 3 3 3 1 0 3 2 3 0 3 3 2 2 2 3 2 1 3 1 1 1 3 1 1 2 3 1 1 1 3 1\n",
      " 0 0 3 2 3 2 1 2 0 2 0 1 3 0 0 2 3 1 1 3 0 2 0 0 2 2 3 2 3 1 3 2 1 1 3 3 2\n",
      " 0 0 1 1 1 0 2 0]\n"
     ]
    }
   ],
   "source": [
    "y_pred=m1.predict(x_test)\n",
    "print(y_pred)"
   ]
  },
  {
   "cell_type": "code",
   "execution_count": 14,
   "id": "9ec01d6a",
   "metadata": {},
   "outputs": [],
   "source": [
    "from sklearn.metrics import confusion_matrix,classification_report"
   ]
  },
  {
   "cell_type": "code",
   "execution_count": 15,
   "id": "29942861",
   "metadata": {},
   "outputs": [
    {
     "name": "stdout",
     "output_type": "stream",
     "text": [
      "[[145   5   1   0]\n",
      " [ 13  94  39   0]\n",
      " [  0  35  79  34]\n",
      " [  0   0   7 148]]\n",
      "              precision    recall  f1-score   support\n",
      "\n",
      "           0       0.92      0.96      0.94       151\n",
      "           1       0.70      0.64      0.67       146\n",
      "           2       0.63      0.53      0.58       148\n",
      "           3       0.81      0.95      0.88       155\n",
      "\n",
      "    accuracy                           0.78       600\n",
      "   macro avg       0.76      0.77      0.77       600\n",
      "weighted avg       0.77      0.78      0.77       600\n",
      "\n"
     ]
    }
   ],
   "source": [
    "eval_model(y_test,y_pred)"
   ]
  },
  {
   "cell_type": "markdown",
   "id": "fcb20fc5",
   "metadata": {},
   "source": [
    "### APPLYING KNN"
   ]
  },
  {
   "cell_type": "code",
   "execution_count": 16,
   "id": "6b662114",
   "metadata": {},
   "outputs": [],
   "source": [
    " from sklearn.neighbors import KNeighborsClassifier"
   ]
  },
  {
   "cell_type": "code",
   "execution_count": 17,
   "id": "fa743786",
   "metadata": {},
   "outputs": [
    {
     "data": {
      "text/plain": [
       "KNeighborsClassifier(n_neighbors=11)"
      ]
     },
     "execution_count": 17,
     "metadata": {},
     "output_type": "execute_result"
    }
   ],
   "source": [
    "knn = KNeighborsClassifier(n_neighbors=11)\n",
    "knn.fit(x_train,y_train)"
   ]
  },
  {
   "cell_type": "code",
   "execution_count": 18,
   "id": "0ed7cde4",
   "metadata": {},
   "outputs": [
    {
     "name": "stdout",
     "output_type": "stream",
     "text": [
      "Train Score 0.9521428571428572\n",
      "Test Score 0.9316666666666666\n"
     ]
    },
    {
     "name": "stderr",
     "output_type": "stream",
     "text": [
      "C:\\Users\\Priyam\\anaconda3\\lib\\site-packages\\sklearn\\neighbors\\_classification.py:228: FutureWarning: Unlike other reduction functions (e.g. `skew`, `kurtosis`), the default behavior of `mode` typically preserves the axis it acts along. In SciPy 1.11.0, this behavior will change: the default value of `keepdims` will become False, the `axis` over which the statistic is taken will be eliminated, and the value None will no longer be accepted. Set `keepdims` to True or False to avoid this warning.\n",
      "  mode, _ = stats.mode(_y[neigh_ind, k], axis=1)\n",
      "C:\\Users\\Priyam\\anaconda3\\lib\\site-packages\\sklearn\\neighbors\\_classification.py:228: FutureWarning: Unlike other reduction functions (e.g. `skew`, `kurtosis`), the default behavior of `mode` typically preserves the axis it acts along. In SciPy 1.11.0, this behavior will change: the default value of `keepdims` will become False, the `axis` over which the statistic is taken will be eliminated, and the value None will no longer be accepted. Set `keepdims` to True or False to avoid this warning.\n",
      "  mode, _ = stats.mode(_y[neigh_ind, k], axis=1)\n"
     ]
    }
   ],
   "source": [
    "print('Train Score',knn.score(x_train,y_train))\n",
    "print('Test Score',knn.score(x_test,y_test))"
   ]
  },
  {
   "cell_type": "code",
   "execution_count": 19,
   "id": "03280689",
   "metadata": {},
   "outputs": [
    {
     "name": "stdout",
     "output_type": "stream",
     "text": [
      "[0 2 1 3 1 1 2 0 3 1 0 1 2 3 2 2 3 3 1 0 0 1 1 2 0 1 3 2 2 0 0 0 3 0 1 1 2\n",
      " 0 3 0 2 3 2 0 3 2 2 1 3 1 3 1 0 0 0 1 1 3 0 0 1 3 3 1 0 0 3 3 1 2 2 2 0 1\n",
      " 2 0 0 3 2 1 3 2 1 0 1 3 1 3 3 0 3 3 2 1 3 2 2 3 1 1 0 0 1 0 0 3 2 0 1 1 0\n",
      " 0 3 1 2 2 3 2 0 2 1 3 2 1 3 3 0 2 0 2 3 0 2 2 0 3 1 0 0 2 2 1 2 2 0 0 0 1\n",
      " 1 2 3 1 1 0 2 2 0 1 0 2 2 3 3 2 1 0 1 2 2 3 3 0 1 0 3 1 1 2 1 0 0 0 0 0 3\n",
      " 2 0 3 0 0 0 0 1 3 3 1 0 1 1 1 1 1 2 2 3 3 1 2 0 0 0 2 1 1 3 1 0 2 1 1 3 2\n",
      " 3 0 0 2 1 3 0 1 2 0 2 3 2 0 1 3 3 0 1 3 2 3 0 3 1 2 3 3 2 1 1 3 3 1 3 3 3\n",
      " 3 3 0 2 2 2 1 3 0 1 3 2 2 2 1 0 1 0 3 3 1 3 1 0 3 1 2 0 0 3 0 1 2 3 3 3 1\n",
      " 1 0 1 3 3 0 1 2 2 0 3 3 2 3 2 3 2 0 2 1 1 1 0 0 0 3 2 3 1 0 1 0 1 2 3 0 3\n",
      " 3 2 1 2 0 0 2 1 3 2 0 1 1 1 0 1 3 2 0 0 3 3 0 3 0 0 2 0 1 2 2 2 3 0 3 2 2\n",
      " 3 3 3 2 1 1 0 3 1 3 3 0 2 3 2 3 3 3 0 0 2 3 0 0 2 3 2 1 1 2 1 2 1 3 1 2 0\n",
      " 0 1 0 1 0 1 0 2 2 3 2 1 1 2 1 0 3 1 0 0 3 0 1 0 0 1 3 3 0 2 0 1 1 3 3 1 2\n",
      " 0 2 0 0 3 3 0 2 2 1 3 1 2 0 1 3 1 0 3 1 0 0 3 2 3 2 0 2 1 0 1 2 3 2 1 1 0\n",
      " 1 2 2 1 1 1 3 1 2 0 3 2 3 1 0 1 2 3 1 1 2 3 0 2 2 3 2 2 2 3 1 1 1 0 1 0 3\n",
      " 1 0 3 1 1 3 2 3 3 2 0 3 1 2 0 3 3 2 2 2 3 2 1 3 1 2 1 3 1 2 1 3 1 1 2 3 1\n",
      " 0 0 2 3 3 1 1 2 0 2 0 1 3 1 0 2 2 1 1 3 0 1 0 0 1 2 3 1 2 1 3 2 1 1 3 3 2\n",
      " 0 0 1 2 1 0 1 0]\n"
     ]
    },
    {
     "name": "stderr",
     "output_type": "stream",
     "text": [
      "C:\\Users\\Priyam\\anaconda3\\lib\\site-packages\\sklearn\\neighbors\\_classification.py:228: FutureWarning: Unlike other reduction functions (e.g. `skew`, `kurtosis`), the default behavior of `mode` typically preserves the axis it acts along. In SciPy 1.11.0, this behavior will change: the default value of `keepdims` will become False, the `axis` over which the statistic is taken will be eliminated, and the value None will no longer be accepted. Set `keepdims` to True or False to avoid this warning.\n",
      "  mode, _ = stats.mode(_y[neigh_ind, k], axis=1)\n"
     ]
    }
   ],
   "source": [
    "ypred_knn = knn.predict(x_test)\n",
    "print(ypred_knn)"
   ]
  },
  {
   "cell_type": "code",
   "execution_count": 20,
   "id": "ee687a98",
   "metadata": {},
   "outputs": [
    {
     "name": "stdout",
     "output_type": "stream",
     "text": [
      "[[145   6   0   0]\n",
      " [  4 140   2   0]\n",
      " [  0  15 129   4]\n",
      " [  0   0  10 145]]\n",
      "              precision    recall  f1-score   support\n",
      "\n",
      "           0       0.97      0.96      0.97       151\n",
      "           1       0.87      0.96      0.91       146\n",
      "           2       0.91      0.87      0.89       148\n",
      "           3       0.97      0.94      0.95       155\n",
      "\n",
      "    accuracy                           0.93       600\n",
      "   macro avg       0.93      0.93      0.93       600\n",
      "weighted avg       0.93      0.93      0.93       600\n",
      "\n"
     ]
    }
   ],
   "source": [
    "eval_model(y_test,ypred_knn)"
   ]
  },
  {
   "cell_type": "markdown",
   "id": "888a67f8",
   "metadata": {},
   "source": [
    "### APPLYING SVM"
   ]
  },
  {
   "cell_type": "code",
   "execution_count": 21,
   "id": "dc18ff2b",
   "metadata": {},
   "outputs": [],
   "source": [
    "from sklearn.svm import SVC"
   ]
  },
  {
   "cell_type": "code",
   "execution_count": 22,
   "id": "f0076a79",
   "metadata": {},
   "outputs": [
    {
     "data": {
      "text/plain": [
       "SVC(C=10, kernel='linear')"
      ]
     },
     "execution_count": 22,
     "metadata": {},
     "output_type": "execute_result"
    }
   ],
   "source": [
    "svm1 = SVC(kernel='linear',C=10)\n",
    "svm1.fit(x_train,y_train)"
   ]
  },
  {
   "cell_type": "code",
   "execution_count": 23,
   "id": "bb187153",
   "metadata": {},
   "outputs": [
    {
     "name": "stdout",
     "output_type": "stream",
     "text": [
      "Train score 0.9828571428571429\n",
      "Test score 0.9683333333333334\n"
     ]
    }
   ],
   "source": [
    "print('Train score',svm1.score(x_train,y_train))\n",
    "print('Test score',svm1.score(x_test,y_test))     "
   ]
  },
  {
   "cell_type": "code",
   "execution_count": 24,
   "id": "7bb2962e",
   "metadata": {},
   "outputs": [
    {
     "name": "stdout",
     "output_type": "stream",
     "text": [
      "[0 2 1 3 1 1 2 0 3 1 0 1 2 3 3 2 3 3 1 0 0 2 1 2 0 1 3 2 2 0 0 0 3 0 1 1 2\n",
      " 0 3 0 2 3 2 0 3 2 2 1 3 1 3 1 0 0 1 1 1 3 0 0 1 3 3 1 0 0 3 3 1 2 2 2 0 1\n",
      " 2 0 1 3 2 2 3 2 1 0 1 3 1 3 3 0 3 3 2 1 3 2 2 3 1 1 0 0 1 0 1 3 2 0 1 1 0\n",
      " 0 3 1 3 2 3 2 0 2 1 3 2 1 3 3 0 2 0 2 3 0 2 2 0 3 1 0 0 2 2 1 2 2 0 0 0 1\n",
      " 1 2 3 1 1 0 2 2 0 1 0 2 2 3 3 3 1 0 1 2 2 3 3 0 1 0 3 1 1 2 1 0 0 0 0 0 3\n",
      " 2 0 3 0 0 0 0 1 3 3 1 0 1 1 1 1 2 2 3 3 3 1 2 0 0 0 2 1 1 3 1 1 2 1 1 3 2\n",
      " 3 0 0 2 1 3 0 1 2 0 2 3 2 0 1 3 3 0 1 3 3 3 0 3 1 2 3 3 2 1 0 3 3 1 3 3 3\n",
      " 3 3 0 1 2 2 1 3 0 2 3 2 2 2 1 0 1 0 2 3 1 3 1 1 3 1 2 0 0 3 0 1 2 3 3 3 1\n",
      " 1 0 1 3 3 0 1 2 2 0 3 3 2 3 2 3 2 0 2 1 1 1 0 0 0 3 3 3 1 0 1 0 1 2 3 0 3\n",
      " 3 2 1 3 0 0 2 1 3 2 0 1 1 1 1 1 3 2 0 0 3 3 0 3 0 0 2 0 1 2 2 2 3 0 3 2 3\n",
      " 3 3 3 2 1 1 0 3 1 3 3 0 2 3 2 3 3 3 0 0 2 3 0 0 2 3 2 1 1 2 1 3 0 3 1 2 0\n",
      " 0 1 0 1 0 1 0 2 2 3 2 1 1 2 1 1 3 1 0 0 3 0 1 0 0 2 2 3 0 2 0 1 1 3 3 1 2\n",
      " 0 2 0 0 3 3 0 2 2 2 3 1 2 0 1 3 1 0 3 1 0 0 3 2 3 2 0 2 1 0 1 2 3 2 1 1 0\n",
      " 1 2 2 1 0 1 3 1 2 0 2 2 3 0 0 1 2 3 1 1 2 3 0 2 2 3 2 2 2 3 2 1 1 0 1 0 3\n",
      " 1 0 2 1 2 3 2 3 3 2 0 3 1 2 0 3 3 1 2 2 3 2 1 3 1 2 1 3 1 2 1 3 1 1 2 3 1\n",
      " 0 0 2 3 3 1 1 2 0 2 0 1 3 0 0 2 3 1 1 3 0 2 0 0 1 2 3 1 2 1 3 2 1 2 3 3 2\n",
      " 0 0 1 2 1 0 1 0]\n"
     ]
    }
   ],
   "source": [
    "ypred_svm=svm1.predict(x_test)\n",
    "print(ypred_svm)"
   ]
  },
  {
   "cell_type": "code",
   "execution_count": 25,
   "id": "0d9d256b",
   "metadata": {},
   "outputs": [
    {
     "name": "stdout",
     "output_type": "stream",
     "text": [
      "[[146   5   0   0]\n",
      " [  1 145   0   0]\n",
      " [  0   5 139   4]\n",
      " [  0   0   4 151]]\n",
      "              precision    recall  f1-score   support\n",
      "\n",
      "           0       0.99      0.97      0.98       151\n",
      "           1       0.94      0.99      0.96       146\n",
      "           2       0.97      0.94      0.96       148\n",
      "           3       0.97      0.97      0.97       155\n",
      "\n",
      "    accuracy                           0.97       600\n",
      "   macro avg       0.97      0.97      0.97       600\n",
      "weighted avg       0.97      0.97      0.97       600\n",
      "\n"
     ]
    }
   ],
   "source": [
    "eval_model(y_test,ypred_svm)"
   ]
  },
  {
   "cell_type": "code",
   "execution_count": 26,
   "id": "536f0956",
   "metadata": {},
   "outputs": [
    {
     "data": {
      "text/plain": [
       "SVC()"
      ]
     },
     "execution_count": 26,
     "metadata": {},
     "output_type": "execute_result"
    }
   ],
   "source": [
    "svm2 = SVC(kernel='rbf')\n",
    "svm2.fit(x_train,y_train)"
   ]
  },
  {
   "cell_type": "code",
   "execution_count": 27,
   "id": "15d2c25c",
   "metadata": {},
   "outputs": [
    {
     "name": "stdout",
     "output_type": "stream",
     "text": [
      "Train score 0.955\n",
      "Test score 0.9533333333333334\n"
     ]
    }
   ],
   "source": [
    "print('Train score',svm2.score(x_train,y_train))\n",
    "print('Test score',svm2.score(x_test,y_test))     "
   ]
  },
  {
   "cell_type": "code",
   "execution_count": 28,
   "id": "e37e12d6",
   "metadata": {},
   "outputs": [
    {
     "name": "stdout",
     "output_type": "stream",
     "text": [
      "[0 2 1 3 1 1 2 0 3 1 0 0 2 3 2 2 3 3 1 0 0 1 1 2 0 1 3 2 2 0 0 0 3 0 1 1 2\n",
      " 0 3 0 2 3 2 0 2 2 2 1 3 1 3 1 0 0 1 1 1 3 0 0 1 3 3 1 0 0 3 3 1 2 2 2 0 1\n",
      " 2 0 1 3 2 2 3 2 1 0 1 3 1 3 3 0 3 3 2 1 3 2 2 3 1 1 0 0 1 0 0 3 2 0 1 1 0\n",
      " 0 3 1 3 2 3 2 0 2 1 3 2 1 3 3 0 3 0 2 3 0 2 2 0 3 1 0 0 2 2 1 2 2 0 0 0 1\n",
      " 1 2 3 1 1 0 2 2 0 1 0 2 2 3 3 2 1 0 1 2 2 3 3 0 1 0 3 1 1 2 1 0 0 0 0 0 3\n",
      " 2 0 3 0 0 0 0 1 3 3 1 0 1 1 1 1 2 2 3 3 3 1 2 0 0 0 2 1 1 3 1 0 2 1 1 3 2\n",
      " 3 0 0 2 1 3 0 1 2 0 2 3 2 0 1 3 3 0 1 3 3 3 0 3 1 2 3 3 2 1 1 3 3 1 3 3 3\n",
      " 3 3 0 1 2 2 2 3 0 2 3 2 2 2 1 0 1 0 3 3 1 3 1 0 3 1 2 0 0 3 0 1 2 3 3 3 1\n",
      " 1 0 1 3 3 0 1 1 2 0 3 3 2 3 2 3 2 0 2 1 1 1 0 0 0 2 2 3 1 0 1 0 1 2 3 0 3\n",
      " 3 2 1 3 0 0 2 1 3 2 0 1 1 1 1 1 3 2 0 0 3 3 0 3 0 0 2 0 1 2 2 2 3 0 3 2 2\n",
      " 3 3 3 2 1 2 0 3 1 3 3 0 2 3 2 3 3 3 0 0 2 3 0 0 2 3 2 1 1 2 1 3 1 3 1 2 0\n",
      " 0 1 0 1 0 1 0 2 2 3 2 1 1 2 1 1 3 1 0 0 3 0 1 0 0 1 3 3 0 2 0 1 1 3 3 0 2\n",
      " 0 2 0 0 3 3 0 2 2 2 3 1 2 0 1 3 1 0 3 1 0 0 3 2 3 2 0 3 1 0 1 2 3 2 1 1 0\n",
      " 1 2 2 1 1 1 3 1 2 0 2 2 3 1 0 1 2 3 1 1 2 3 0 2 2 3 2 2 2 3 2 1 1 0 1 0 3\n",
      " 1 0 2 1 1 3 2 3 3 2 0 3 1 2 0 3 3 1 2 2 3 2 1 3 1 2 1 3 1 2 1 3 1 1 2 3 1\n",
      " 0 0 2 3 3 1 1 2 0 2 0 1 3 1 0 2 3 1 1 3 0 2 0 0 1 2 3 1 2 1 3 2 1 1 3 3 2\n",
      " 0 0 1 2 1 0 1 0]\n"
     ]
    }
   ],
   "source": [
    "ypred_svm2=svm2.predict(x_test)\n",
    "print(ypred_svm2)"
   ]
  },
  {
   "cell_type": "code",
   "execution_count": 29,
   "id": "9ccbfa4a",
   "metadata": {},
   "outputs": [
    {
     "name": "stdout",
     "output_type": "stream",
     "text": [
      "[[146   5   0   0]\n",
      " [  1 144   1   0]\n",
      " [  0   9 134   5]\n",
      " [  0   0   7 148]]\n",
      "              precision    recall  f1-score   support\n",
      "\n",
      "           0       0.99      0.97      0.98       151\n",
      "           1       0.91      0.99      0.95       146\n",
      "           2       0.94      0.91      0.92       148\n",
      "           3       0.97      0.95      0.96       155\n",
      "\n",
      "    accuracy                           0.95       600\n",
      "   macro avg       0.95      0.95      0.95       600\n",
      "weighted avg       0.95      0.95      0.95       600\n",
      "\n"
     ]
    }
   ],
   "source": [
    "eval_model(y_test,ypred_svm2)"
   ]
  },
  {
   "cell_type": "markdown",
   "id": "98a84c96",
   "metadata": {},
   "source": [
    "### APPLYING DECISION TREE"
   ]
  },
  {
   "cell_type": "code",
   "execution_count": 30,
   "id": "cc935abf",
   "metadata": {},
   "outputs": [],
   "source": [
    "from sklearn.tree import DecisionTreeClassifier"
   ]
  },
  {
   "cell_type": "code",
   "execution_count": 31,
   "id": "0a0edc3b",
   "metadata": {},
   "outputs": [
    {
     "data": {
      "text/plain": [
       "DecisionTreeClassifier(max_depth=5, min_samples_split=12)"
      ]
     },
     "execution_count": 31,
     "metadata": {},
     "output_type": "execute_result"
    }
   ],
   "source": [
    "dc=DecisionTreeClassifier(criterion='gini',max_depth=5,min_samples_split=12)\n",
    "dc.fit(x_train,y_train)"
   ]
  },
  {
   "cell_type": "code",
   "execution_count": 32,
   "id": "76366138",
   "metadata": {},
   "outputs": [
    {
     "name": "stdout",
     "output_type": "stream",
     "text": [
      "Train score 0.8785714285714286\n",
      "Test score 0.7833333333333333\n"
     ]
    }
   ],
   "source": [
    "print('Train score',dc.score(x_train,y_train))\n",
    "print('Test score',dc.score(x_test,y_test))     "
   ]
  },
  {
   "cell_type": "code",
   "execution_count": 33,
   "id": "63b00ae1",
   "metadata": {},
   "outputs": [
    {
     "name": "stdout",
     "output_type": "stream",
     "text": [
      "[0 2 1 3 1 2 2 0 2 2 0 1 2 3 2 2 3 3 1 0 0 1 1 1 0 2 2 2 2 0 1 0 3 0 1 1 3\n",
      " 0 3 0 2 3 2 0 2 2 1 1 3 1 3 1 0 0 0 0 1 2 0 0 1 3 3 2 0 0 3 3 1 2 2 2 0 1\n",
      " 3 0 0 3 2 2 3 2 1 0 2 3 2 3 3 0 2 3 2 1 3 2 2 3 2 1 0 0 1 1 0 3 2 0 1 1 0\n",
      " 0 2 2 2 2 2 3 0 2 1 3 2 1 3 3 0 3 0 1 3 0 2 2 0 2 1 1 0 2 3 1 2 3 0 0 0 1\n",
      " 2 2 3 1 1 0 2 2 0 2 0 2 2 3 3 3 1 0 1 2 2 3 3 1 1 0 3 1 1 2 1 0 0 0 0 0 3\n",
      " 2 0 3 0 0 0 0 1 3 2 2 0 1 2 1 1 1 2 2 3 3 1 2 0 0 0 2 1 1 3 1 0 2 2 1 3 2\n",
      " 2 0 0 2 1 2 0 0 1 0 2 3 2 1 0 3 3 0 2 3 3 3 0 2 1 2 3 3 2 1 1 3 3 0 3 3 3\n",
      " 3 3 0 2 2 2 2 2 0 2 3 2 2 2 0 0 2 0 2 3 1 3 1 0 3 1 2 0 0 2 0 2 2 3 3 3 0\n",
      " 1 0 1 3 3 0 1 2 2 0 3 3 2 3 2 3 2 0 2 1 2 1 0 0 0 3 2 3 2 0 1 0 1 3 3 1 2\n",
      " 2 2 1 2 0 0 3 1 3 2 0 2 1 2 0 2 3 1 0 0 2 3 0 3 0 0 2 0 0 2 2 2 3 1 3 2 2\n",
      " 3 3 3 2 1 2 0 3 2 3 3 0 2 3 2 3 3 3 0 0 2 3 0 0 2 3 1 2 1 2 1 3 1 3 1 2 0\n",
      " 0 1 0 1 0 2 0 1 2 3 2 1 1 3 2 0 3 1 0 0 3 0 2 1 0 1 3 3 0 2 0 1 1 3 3 0 3\n",
      " 1 2 0 0 3 3 0 2 1 1 3 1 2 0 1 3 1 0 2 2 0 0 3 2 3 2 0 3 0 0 1 2 3 2 1 0 0\n",
      " 0 2 2 1 1 1 3 1 2 1 3 3 3 1 0 1 2 3 1 1 3 3 0 2 2 2 2 2 2 3 1 1 1 0 1 0 3\n",
      " 1 0 3 2 2 3 2 2 3 2 0 3 1 2 0 3 3 2 2 2 3 2 1 3 1 2 0 2 1 1 1 3 1 2 2 3 1\n",
      " 0 0 2 3 3 1 1 2 0 2 0 0 3 1 0 2 2 1 1 3 0 1 0 0 2 2 3 1 2 1 3 2 1 2 3 3 2\n",
      " 0 0 1 3 1 0 1 0]\n"
     ]
    }
   ],
   "source": [
    "ypred_dc=dc.predict(x_test)\n",
    "print(ypred_dc)"
   ]
  },
  {
   "cell_type": "code",
   "execution_count": 34,
   "id": "a14ed1bc",
   "metadata": {},
   "outputs": [
    {
     "name": "stdout",
     "output_type": "stream",
     "text": [
      "[[136  15   0   0]\n",
      " [ 16  99  31   0]\n",
      " [  0  17 111  20]\n",
      " [  0   0  31 124]]\n",
      "              precision    recall  f1-score   support\n",
      "\n",
      "           0       0.89      0.90      0.90       151\n",
      "           1       0.76      0.68      0.71       146\n",
      "           2       0.64      0.75      0.69       148\n",
      "           3       0.86      0.80      0.83       155\n",
      "\n",
      "    accuracy                           0.78       600\n",
      "   macro avg       0.79      0.78      0.78       600\n",
      "weighted avg       0.79      0.78      0.78       600\n",
      "\n"
     ]
    }
   ],
   "source": [
    "eval_model(y_test,ypred_dc)"
   ]
  },
  {
   "cell_type": "code",
   "execution_count": 35,
   "id": "7ba06575",
   "metadata": {},
   "outputs": [
    {
     "data": {
      "text/plain": [
       "DecisionTreeClassifier(criterion='entropy', max_depth=5, min_samples_split=12)"
      ]
     },
     "execution_count": 35,
     "metadata": {},
     "output_type": "execute_result"
    }
   ],
   "source": [
    "dce=DecisionTreeClassifier(criterion='entropy',max_depth=5,min_samples_split=12)\n",
    "dce.fit(x_train,y_train)"
   ]
  },
  {
   "cell_type": "code",
   "execution_count": 36,
   "id": "002392d0",
   "metadata": {},
   "outputs": [
    {
     "name": "stdout",
     "output_type": "stream",
     "text": [
      "Train score 0.8878571428571429\n",
      "Test score 0.8083333333333333\n"
     ]
    }
   ],
   "source": [
    "print('Train score',dce.score(x_train,y_train))\n",
    "print('Test score',dce.score(x_test,y_test))     "
   ]
  },
  {
   "cell_type": "code",
   "execution_count": 37,
   "id": "4d91f727",
   "metadata": {},
   "outputs": [
    {
     "name": "stdout",
     "output_type": "stream",
     "text": [
      "[0 1 1 3 1 1 2 0 3 1 0 1 2 3 2 2 3 3 1 0 0 1 1 2 0 1 2 2 2 0 0 0 3 0 1 1 2\n",
      " 0 3 0 1 3 2 0 3 2 2 1 3 1 3 1 0 0 0 0 1 2 0 0 1 3 3 1 0 0 3 3 1 2 1 3 0 1\n",
      " 2 0 0 3 2 1 3 2 1 0 1 3 2 3 3 0 2 3 1 1 3 2 2 3 1 1 0 0 0 0 0 3 2 0 1 1 0\n",
      " 0 2 1 2 2 2 3 0 2 1 3 2 1 3 3 0 3 0 2 3 0 2 2 0 3 1 0 0 2 3 0 3 2 0 0 0 1\n",
      " 2 3 3 1 1 0 2 2 0 1 0 1 2 3 2 3 2 0 0 2 2 2 3 1 0 0 3 1 1 2 1 0 0 0 0 0 3\n",
      " 2 0 3 0 1 0 0 1 3 3 1 0 0 1 1 1 2 2 2 3 3 1 3 0 0 0 2 1 1 3 1 0 2 1 1 3 1\n",
      " 3 0 1 1 1 3 0 1 1 0 1 3 2 1 0 3 3 0 1 3 3 3 0 3 1 2 3 3 2 1 1 3 3 1 3 3 3\n",
      " 3 3 1 1 2 3 1 3 0 1 3 2 2 2 0 0 2 0 2 3 1 3 1 0 3 2 2 0 0 3 0 1 2 3 3 3 1\n",
      " 0 0 1 3 3 0 1 2 2 0 3 3 2 3 1 3 2 0 2 1 1 1 0 0 1 2 2 3 1 0 1 0 2 3 3 1 3\n",
      " 3 2 2 3 0 0 3 0 3 2 0 1 1 2 0 1 3 1 0 0 3 3 0 3 0 0 2 0 0 2 2 2 3 0 3 2 2\n",
      " 3 3 3 2 1 1 0 3 1 3 3 0 2 3 1 3 3 3 1 0 2 3 0 0 2 3 1 1 1 2 1 3 1 3 1 2 0\n",
      " 0 1 0 1 0 1 1 2 2 3 2 1 1 2 1 0 3 1 0 1 3 0 1 0 1 2 3 3 0 2 1 1 1 3 3 0 3\n",
      " 0 2 0 0 3 3 0 2 2 2 3 1 2 0 1 3 1 0 3 2 0 0 3 2 3 2 0 3 0 0 1 2 3 2 1 1 1\n",
      " 0 2 1 1 1 1 3 1 2 0 3 2 3 0 0 0 2 3 1 2 3 3 1 2 2 3 1 2 1 3 1 1 1 0 1 0 3\n",
      " 0 0 3 1 1 3 3 3 3 2 0 2 2 1 0 3 3 1 3 2 3 1 1 3 1 2 1 2 1 2 1 3 1 1 2 3 1\n",
      " 0 0 2 3 3 1 1 1 0 3 1 0 3 0 0 2 3 1 1 3 0 2 0 0 1 2 3 1 2 1 3 2 1 1 3 3 3\n",
      " 0 1 1 2 1 0 1 0]\n"
     ]
    }
   ],
   "source": [
    "ypred_dce=dce.predict(x_test)\n",
    "print(ypred_dce)"
   ]
  },
  {
   "cell_type": "code",
   "execution_count": 38,
   "id": "0b9cfd2a",
   "metadata": {},
   "outputs": [
    {
     "name": "stdout",
     "output_type": "stream",
     "text": [
      "[[131  20   0   0]\n",
      " [ 21 117   8   0]\n",
      " [  0  27  99  22]\n",
      " [  0   0  17 138]]\n",
      "              precision    recall  f1-score   support\n",
      "\n",
      "           0       0.86      0.87      0.86       151\n",
      "           1       0.71      0.80      0.75       146\n",
      "           2       0.80      0.67      0.73       148\n",
      "           3       0.86      0.89      0.88       155\n",
      "\n",
      "    accuracy                           0.81       600\n",
      "   macro avg       0.81      0.81      0.81       600\n",
      "weighted avg       0.81      0.81      0.81       600\n",
      "\n"
     ]
    }
   ],
   "source": [
    "eval_model(y_test,ypred_dce)"
   ]
  },
  {
   "cell_type": "markdown",
   "id": "fa3532aa",
   "metadata": {},
   "source": [
    "### APPLYING RANDOM FOREST"
   ]
  },
  {
   "cell_type": "code",
   "execution_count": 39,
   "id": "60d1288c",
   "metadata": {},
   "outputs": [],
   "source": [
    "from sklearn.ensemble import RandomForestClassifier"
   ]
  },
  {
   "cell_type": "code",
   "execution_count": 40,
   "id": "faec144a",
   "metadata": {},
   "outputs": [
    {
     "data": {
      "text/plain": [
       "RandomForestClassifier(criterion='entropy', max_depth=8, n_estimators=200,\n",
       "                       random_state=42)"
      ]
     },
     "execution_count": 40,
     "metadata": {},
     "output_type": "execute_result"
    }
   ],
   "source": [
    "rf=RandomForestClassifier(n_estimators=200,criterion='entropy', max_depth=8, random_state=42)\n",
    "rf.fit(x_train,y_train)"
   ]
  },
  {
   "cell_type": "code",
   "execution_count": 41,
   "id": "872d6481",
   "metadata": {},
   "outputs": [
    {
     "name": "stdout",
     "output_type": "stream",
     "text": [
      "Train score 0.995\n",
      "Test score 0.875\n"
     ]
    }
   ],
   "source": [
    "print('Train score',rf.score(x_train,y_train))\n",
    "print('Test score',rf.score(x_test,y_test))     "
   ]
  },
  {
   "cell_type": "code",
   "execution_count": 42,
   "id": "58b81f48",
   "metadata": {},
   "outputs": [
    {
     "name": "stdout",
     "output_type": "stream",
     "text": [
      "[0 2 1 3 1 2 2 0 3 1 0 1 2 3 3 2 3 3 1 0 0 1 1 2 0 1 2 2 2 0 0 0 3 0 1 1 2\n",
      " 0 3 0 2 3 2 0 3 3 2 1 3 1 3 1 0 0 1 0 1 3 0 0 0 3 3 2 0 0 3 3 1 2 2 2 0 1\n",
      " 2 0 0 3 2 2 3 2 1 0 1 3 2 3 3 0 3 3 2 1 3 2 2 3 2 1 0 0 1 0 0 3 2 0 1 1 0\n",
      " 0 3 1 2 2 3 3 0 2 1 3 3 1 3 3 0 3 0 2 3 0 2 2 0 3 1 0 0 2 3 0 2 3 0 0 0 1\n",
      " 2 2 3 1 1 0 2 2 0 1 0 1 2 3 3 2 1 0 0 2 2 3 3 1 0 0 3 1 2 2 1 0 0 0 0 0 3\n",
      " 2 0 3 0 0 0 0 1 3 3 1 0 1 2 1 1 2 2 3 3 3 1 2 0 0 0 2 1 1 3 1 0 2 1 1 3 1\n",
      " 3 0 0 2 1 3 0 0 2 0 1 3 2 0 1 3 3 0 2 3 3 3 0 3 1 2 3 3 2 1 1 3 3 1 3 3 3\n",
      " 3 3 0 1 2 2 2 2 0 2 3 2 3 2 1 0 2 0 3 3 1 3 1 0 3 1 2 0 0 3 0 1 2 3 3 3 1\n",
      " 0 0 1 3 3 0 1 2 2 0 3 3 2 3 1 3 2 0 2 1 2 1 0 0 1 3 3 3 1 0 1 0 2 2 2 0 3\n",
      " 3 2 1 3 0 0 3 1 3 2 0 1 1 2 1 1 3 1 0 0 3 3 0 3 0 0 1 0 0 2 2 2 3 0 3 2 2\n",
      " 3 3 3 2 1 2 0 3 2 3 3 0 2 3 2 3 3 3 0 0 2 3 0 0 2 3 1 1 1 2 1 2 1 3 1 2 0\n",
      " 0 1 0 1 0 2 0 1 2 3 2 1 1 3 1 0 3 1 0 0 3 0 1 0 0 1 3 3 0 2 1 1 1 3 3 1 2\n",
      " 0 2 0 0 3 3 0 2 2 1 3 1 1 0 1 3 1 0 3 1 0 0 3 2 3 2 0 3 1 0 1 2 3 2 1 1 0\n",
      " 1 2 2 1 1 1 3 1 2 0 3 2 3 0 0 1 2 3 1 1 2 3 0 2 2 3 2 2 2 3 1 1 1 0 2 0 3\n",
      " 1 0 3 1 1 3 2 3 3 2 0 3 2 2 0 3 3 1 2 2 3 2 1 3 1 2 1 3 1 1 1 3 1 1 2 3 1\n",
      " 0 0 2 3 3 1 1 2 0 2 0 1 3 0 0 2 2 1 1 3 0 1 0 0 2 2 3 1 1 1 3 2 1 1 3 3 2\n",
      " 0 0 1 2 1 0 1 0]\n"
     ]
    }
   ],
   "source": [
    "ypred_rf=rf.predict(x_test)\n",
    "print(ypred_rf)"
   ]
  },
  {
   "cell_type": "code",
   "execution_count": 43,
   "id": "9d0d5155",
   "metadata": {},
   "outputs": [
    {
     "name": "stdout",
     "output_type": "stream",
     "text": [
      "[[144   7   0   0]\n",
      " [ 10 120  16   0]\n",
      " [  0  20 114  14]\n",
      " [  0   0   8 147]]\n",
      "              precision    recall  f1-score   support\n",
      "\n",
      "           0       0.94      0.95      0.94       151\n",
      "           1       0.82      0.82      0.82       146\n",
      "           2       0.83      0.77      0.80       148\n",
      "           3       0.91      0.95      0.93       155\n",
      "\n",
      "    accuracy                           0.88       600\n",
      "   macro avg       0.87      0.87      0.87       600\n",
      "weighted avg       0.87      0.88      0.87       600\n",
      "\n"
     ]
    }
   ],
   "source": [
    "eval_model(y_test,ypred_rf)"
   ]
  },
  {
   "cell_type": "markdown",
   "id": "7d9a4596",
   "metadata": {},
   "source": [
    "## BEST MODEL WITH ACCURACY IS SVM MODEL WITH LINEAR KERNEL"
   ]
  },
  {
   "cell_type": "code",
   "execution_count": 45,
   "id": "bdb51464",
   "metadata": {},
   "outputs": [
    {
     "name": "stdout",
     "output_type": "stream",
     "text": [
      "[0 2 1 3 1 1 2 0 3 1 0 1 2 3 3 2 3 3 1 0 0 2 1 2 0 1 3 2 2 0 0 0 3 0 1 1 2\n",
      " 0 3 0 2 3 2 0 3 2 2 1 3 1 3 1 0 0 1 1 1 3 0 0 1 3 3 1 0 0 3 3 1 2 2 2 0 1\n",
      " 2 0 1 3 2 2 3 2 1 0 1 3 1 3 3 0 3 3 2 1 3 2 2 3 1 1 0 0 1 0 1 3 2 0 1 1 0\n",
      " 0 3 1 3 2 3 2 0 2 1 3 2 1 3 3 0 2 0 2 3 0 2 2 0 3 1 0 0 2 2 1 2 2 0 0 0 1\n",
      " 1 2 3 1 1 0 2 2 0 1 0 2 2 3 3 3 1 0 1 2 2 3 3 0 1 0 3 1 1 2 1 0 0 0 0 0 3\n",
      " 2 0 3 0 0 0 0 1 3 3 1 0 1 1 1 1 2 2 3 3 3 1 2 0 0 0 2 1 1 3 1 1 2 1 1 3 2\n",
      " 3 0 0 2 1 3 0 1 2 0 2 3 2 0 1 3 3 0 1 3 3 3 0 3 1 2 3 3 2 1 0 3 3 1 3 3 3\n",
      " 3 3 0 1 2 2 1 3 0 2 3 2 2 2 1 0 1 0 2 3 1 3 1 1 3 1 2 0 0 3 0 1 2 3 3 3 1\n",
      " 1 0 1 3 3 0 1 2 2 0 3 3 2 3 2 3 2 0 2 1 1 1 0 0 0 3 3 3 1 0 1 0 1 2 3 0 3\n",
      " 3 2 1 3 0 0 2 1 3 2 0 1 1 1 1 1 3 2 0 0 3 3 0 3 0 0 2 0 1 2 2 2 3 0 3 2 3\n",
      " 3 3 3 2 1 1 0 3 1 3 3 0 2 3 2 3 3 3 0 0 2 3 0 0 2 3 2 1 1 2 1 3 0 3 1 2 0\n",
      " 0 1 0 1 0 1 0 2 2 3 2 1 1 2 1 1 3 1 0 0 3 0 1 0 0 2 2 3 0 2 0 1 1 3 3 1 2\n",
      " 0 2 0 0 3 3 0 2 2 2 3 1 2 0 1 3 1 0 3 1 0 0 3 2 3 2 0 2 1 0 1 2 3 2 1 1 0\n",
      " 1 2 2 1 0 1 3 1 2 0 2 2 3 0 0 1 2 3 1 1 2 3 0 2 2 3 2 2 2 3 2 1 1 0 1 0 3\n",
      " 1 0 2 1 2 3 2 3 3 2 0 3 1 2 0 3 3 1 2 2 3 2 1 3 1 2 1 3 1 2 1 3 1 1 2 3 1\n",
      " 0 0 2 3 3 1 1 2 0 2 0 1 3 0 0 2 3 1 1 3 0 2 0 0 1 2 3 1 2 1 3 2 1 2 3 3 2\n",
      " 0 0 1 2 1 0 1 0]\n"
     ]
    }
   ],
   "source": [
    "print(ypred_svm) ### PRICE RANGE FOR SVM MODEL TEST DATA"
   ]
  },
  {
   "cell_type": "code",
   "execution_count": null,
   "id": "a1e3b15b",
   "metadata": {},
   "outputs": [],
   "source": []
  }
 ],
 "metadata": {
  "kernelspec": {
   "display_name": "Python 3 (ipykernel)",
   "language": "python",
   "name": "python3"
  },
  "language_info": {
   "codemirror_mode": {
    "name": "ipython",
    "version": 3
   },
   "file_extension": ".py",
   "mimetype": "text/x-python",
   "name": "python",
   "nbconvert_exporter": "python",
   "pygments_lexer": "ipython3",
   "version": "3.9.13"
  }
 },
 "nbformat": 4,
 "nbformat_minor": 5
}
